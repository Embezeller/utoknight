{
 "cells": [
  {
   "cell_type": "code",
   "execution_count": 1,
   "metadata": {},
   "outputs": [],
   "source": [
    "import pandas as pd\n",
    "import seaborn as sns\n",
    "import matplotlib.pyplot as plt\n",
    "import re"
   ]
  },
  {
   "cell_type": "code",
   "execution_count": 2,
   "metadata": {},
   "outputs": [],
   "source": [
    "df1 = pd.read_csv('C:/Users/gunal/Desktop/DSE/csv_files/fifa.csv')\n",
    "df2 = pd.read_csv('C:/Users/gunal/Desktop/DSE/csv_files/fifa_variable_information.csv')\n"
   ]
  },
  {
   "cell_type": "code",
   "execution_count": 3,
   "metadata": {},
   "outputs": [],
   "source": [
    "def func1(dataframe):\n",
    "    for i in range (0,len(dataframe)):\n",
    "        a = dataframe[i]\n",
    "        a = a[1:]\n",
    "        if a[-1] == 'K':\n",
    "            a = float(a[:-1]) * 1000\n",
    "        elif a[-1] == 'M':\n",
    "            a = float(a[:-1]) * 1000000\n",
    "        else:\n",
    "            a = float(a)\n",
    "        dataframe[i] = a\n",
    "    return dataframe\n"
   ]
  },
  {
   "cell_type": "code",
   "execution_count": 4,
   "metadata": {},
   "outputs": [
    {
     "name": "stdout",
     "output_type": "stream",
     "text": [
      "0        1.105e+08\n",
      "1          7.7e+07\n",
      "2        1.185e+08\n",
      "3          7.2e+07\n",
      "4         1.02e+08\n",
      "5          9.3e+07\n",
      "6          6.7e+07\n",
      "7            8e+07\n",
      "8          5.1e+07\n",
      "9          6.8e+07\n",
      "10         7.7e+07\n",
      "11        7.65e+07\n",
      "12         4.4e+07\n",
      "13           6e+07\n",
      "14         6.3e+07\n",
      "15         8.9e+07\n",
      "16        8.35e+07\n",
      "17         7.8e+07\n",
      "18         5.8e+07\n",
      "19        5.35e+07\n",
      "20        5.15e+07\n",
      "21           6e+07\n",
      "22         3.8e+07\n",
      "23        6.45e+07\n",
      "24         2.7e+07\n",
      "25         8.1e+07\n",
      "26        6.95e+07\n",
      "27        5.95e+07\n",
      "28        6.95e+07\n",
      "29         6.2e+07\n",
      "           ...    \n",
      "18177        70000\n",
      "18178        50000\n",
      "18179        50000\n",
      "18180        40000\n",
      "18181        50000\n",
      "18182        50000\n",
      "18183            0\n",
      "18184        40000\n",
      "18185        50000\n",
      "18186        60000\n",
      "18187        40000\n",
      "18188        60000\n",
      "18189        60000\n",
      "18190        60000\n",
      "18191        50000\n",
      "18192        50000\n",
      "18193        50000\n",
      "18194        50000\n",
      "18195        60000\n",
      "18196        60000\n",
      "18197        60000\n",
      "18198        60000\n",
      "18199        70000\n",
      "18200        60000\n",
      "18201        60000\n",
      "18202        60000\n",
      "18203        60000\n",
      "18204        60000\n",
      "18205        60000\n",
      "18206        60000\n",
      "Name: Value, Length: 18207, dtype: object\n"
     ]
    }
   ],
   "source": [
    "drop_value = df1['Value'].fillna('€0').copy()\n",
    "drop_value = func1(drop_value)\n",
    "print(drop_value)"
   ]
  },
  {
   "cell_type": "code",
   "execution_count": null,
   "metadata": {
    "scrolled": true
   },
   "outputs": [],
   "source": [
    "drop_wage = df1['Wage'].fillna('€0').copy()\n",
    "drop_wage = func1(drop_wage)\n",
    "print(drop_wage)"
   ]
  },
  {
   "cell_type": "code",
   "execution_count": null,
   "metadata": {},
   "outputs": [],
   "source": [
    "drop_release = df1['Release Clause'].fillna('€0').copy()\n",
    "drop_release = func1(drop_release)\n",
    "print(drop_release)"
   ]
  },
  {
   "cell_type": "code",
   "execution_count": null,
   "metadata": {},
   "outputs": [],
   "source": [
    "drop_joined = df1['Joined'].fillna('none').copy()\n",
    "\n",
    "for i in range(0, len(drop_joined)):\n",
    "    yr = drop_joined[i]\n",
    "    yr = yr[-4:]\n",
    "    \n",
    "    if yr == 'none':\n",
    "        yr = 0\n",
    "    else:\n",
    "        yr = int(yr)\n",
    "        \n",
    "    drop_joined[i] = yr\n",
    "\n",
    "median = drop_joined.median()\n",
    "\n",
    "for i in range(0,len(drop_joined)):\n",
    "    \n",
    "    if drop_joined[i] == 0:\n",
    "        drop_joined[i] = int(median)\n",
    "\n",
    "drop_joined"
   ]
  },
  {
   "cell_type": "code",
   "execution_count": null,
   "metadata": {},
   "outputs": [],
   "source": [
    "drop_weight = df1['Weight'].fillna('0lbs').copy()\n",
    "\n",
    "for i in range (0, len(drop_weight)):\n",
    "    a = drop_weight[i]\n",
    "    a = float(a[:-3])\n",
    "    drop_weight[i] = float(a)\n",
    "\n",
    "drop_weight\n",
    "   "
   ]
  },
  {
   "cell_type": "code",
   "execution_count": null,
   "metadata": {},
   "outputs": [],
   "source": [
    "drop_height = df1['Height'].fillna('0').copy()\n",
    "\n",
    "drop_height = drop_height.str.replace(r\"'\", \".\").astype('float')\n",
    "\n",
    "drop_height\n"
   ]
  },
  {
   "cell_type": "code",
   "execution_count": null,
   "metadata": {},
   "outputs": [],
   "source": [
    "drop_contract = df1['Contract Valid Until'].copy()\n",
    "drop_contract = pd.to_datetime(drop_contract)\n",
    "print(drop_contract)"
   ]
  },
  {
   "cell_type": "code",
   "execution_count": null,
   "metadata": {},
   "outputs": [],
   "source": [
    "df1['Value'] = drop_value\n",
    "df1['Wage'] = drop_wage\n",
    "df1['Joined'] = drop_joined\n",
    "df1['Contract Valid Until'] = drop_contract\n",
    "df1['Height'] = drop_height\n",
    "df1['Weight'] = drop_weight\n",
    "df1['Release Clause'] = drop_release"
   ]
  },
  {
   "cell_type": "code",
   "execution_count": null,
   "metadata": {},
   "outputs": [],
   "source": [
    "sns.distplot(df1['Overall'], kde = True, rug=False, color = 'r', bins = 10)"
   ]
  },
  {
   "cell_type": "code",
   "execution_count": null,
   "metadata": {
    "scrolled": false
   },
   "outputs": [],
   "source": [
    "column = ['Overall', 'Value', 'Wage', 'International Reputation', 'Height', 'Weight', 'Release Clause']\n",
    "sns.pairplot(df1[column], size=3)"
   ]
  },
  {
   "cell_type": "code",
   "execution_count": null,
   "metadata": {},
   "outputs": [],
   "source": [
    "mask = df1['Contract Valid Until'].dt.year == 2020\n",
    "\n",
    "df = df1[mask].sort_values('Overall', ascending = False).head(n = 20)\n",
    "\n",
    "print('average wage: ', df['Wage'].mean())\n",
    "print('average age:  ', df['Age'].mean())\n",
    "\n",
    "\n",
    "\n",
    "d = df['Value'].astype('float64')\n",
    "e = df['Overall'].astype('float64')\n",
    "\n",
    "correlation = e.corr(d)\n",
    "print('Correlation : ',correlation)\n"
   ]
  },
  {
   "cell_type": "code",
   "execution_count": null,
   "metadata": {},
   "outputs": [],
   "source": [
    "\n",
    "\n",
    "df = df1.sort_values('Overall',ascending = False).groupby('Position').head(5)\n",
    "df = df.groupby('Position')\n",
    "\n",
    "for a,b in df:\n",
    "    print(a)\n",
    "    print(b['Wage'].mean())\n",
    "\n"
   ]
  },
  {
   "cell_type": "code",
   "execution_count": null,
   "metadata": {},
   "outputs": [],
   "source": [
    "df1['Name']"
   ]
  },
  {
   "cell_type": "code",
   "execution_count": null,
   "metadata": {},
   "outputs": [],
   "source": []
  }
 ],
 "metadata": {
  "kernelspec": {
   "display_name": "Python 3",
   "language": "python",
   "name": "python3"
  },
  "language_info": {
   "codemirror_mode": {
    "name": "ipython",
    "version": 3
   },
   "file_extension": ".py",
   "mimetype": "text/x-python",
   "name": "python",
   "nbconvert_exporter": "python",
   "pygments_lexer": "ipython3",
   "version": "3.7.3"
  }
 },
 "nbformat": 4,
 "nbformat_minor": 2
}
